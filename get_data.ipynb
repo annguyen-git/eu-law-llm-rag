{
 "cells": [
  {
   "cell_type": "code",
   "execution_count": 1,
   "metadata": {},
   "outputs": [],
   "source": [
    "# from langchain.document_loaders import PyPDFLoader\n",
    "from langchain.text_splitter import RecursiveCharacterTextSplitter\n",
    "# from langchain_openai import OpenAIEmbeddings, ChatOpenAI\n",
    "from langchain_chroma import Chroma\n",
    "from langchain.schema import Document\n",
    "from langchain_core.runnables import RunnablePassthrough\n",
    "from langchain_core.prompts import ChatPromptTemplate\n",
    "# from langchain_core.pydantic_v1 import BaseModel, Field\n",
    "\n",
    "from bs4 import BeautifulSoup\n",
    "import requests\n",
    "import os\n",
    "import tempfile\n",
    "import streamlit as st\n",
    "import pandas as pd\n",
    "import dotenv"
   ]
  },
  {
   "cell_type": "code",
   "execution_count": 2,
   "metadata": {
    "vscode": {
     "languageId": "shellscript"
    }
   },
   "outputs": [
    {
     "name": "stdout",
     "output_type": "stream",
     "text": [
      "Internet connected\n"
     ]
    }
   ],
   "source": [
    "from bs4 import BeautifulSoup\n",
    "import requests\n",
    "\n",
    "url = 'https://eur-lex.europa.eu/legal-content/EN/TXT/HTML/?uri=CELEX:32001L0029'\n",
    "response = requests.get(url)\n",
    "\n",
    "if response.status_code == 200:\n",
    "    print('Internet connected')\n",
    "    soup = BeautifulSoup(response.text, 'html.parser')\n",
    "\n",
    "    main_content = soup.find('div', {'id': 'TexteOnly'}) \n",
    "\n",
    "    if main_content:\n",
    "        all_text = []\n",
    "        paragraphs = main_content.find_all('p')\n",
    "        for i, p in enumerate(paragraphs):\n",
    "            if i == 0:\n",
    "                continue\n",
    "            paragraph_text = p.get_text(strip=True)\n",
    "            all_text.append(paragraph_text)\n",
    "        full_text = \"\\n\".join(all_text)\n",
    "    else:\n",
    "        print(\"Main content not found.\")\n",
    "\n",
    "text_splitter = RecursiveCharacterTextSplitter(\n",
    "    chunk_size=1500,\n",
    "    chunk_overlap=200,\n",
    "    length_function=len,\n",
    "    separators=[\"\\n\\n\", \"\\n\", \" \"]\n",
    ")\n",
    "\n",
    "chunks = text_splitter.split_text(full_text)\n",
    "from langchain_ollama import OllamaEmbeddings, ChatOllama\n",
    "\n",
    "embeddings_ollama = OllamaEmbeddings(model=\"mxbai-embed-large\")\n",
    "model_ollama = ChatOllama(model=\"llama3.2\",temperature=0)"
   ]
  },
  {
   "cell_type": "code",
   "execution_count": 3,
   "metadata": {
    "vscode": {
     "languageId": "shellscript"
    }
   },
   "outputs": [
    {
     "name": "stdout",
     "output_type": "stream",
     "text": [
      "No vectorstore found at 'data/vectorstore'.\n"
     ]
    }
   ],
   "source": [
    "import shutil\n",
    "import os\n",
    "\n",
    "def clear_vectorstore(vectorstore_path):\n",
    "    if os.path.exists(vectorstore_path):\n",
    "        shutil.rmtree(vectorstore_path)  # Removes the entire directory and its contents\n",
    "        print(f\"Vectorstore at '{vectorstore_path}' has been cleared.\")\n",
    "    else:\n",
    "        print(f\"No vectorstore found at '{vectorstore_path}'.\")\n",
    "\n",
    "# Example usage\n",
    "clear_vectorstore(\"data/vectorstore\")"
   ]
  },
  {
   "cell_type": "code",
   "execution_count": 4,
   "metadata": {},
   "outputs": [],
   "source": [
    "def create_vectorstore(chunks, embedding_function, vectorstore_path):\n",
    "    unique_chunks = list(set(chunks))\n",
    "\n",
    "    vectorstore = Chroma.from_texts(\n",
    "        texts=unique_chunks,\n",
    "        embedding=embedding_function,\n",
    "        persist_directory=vectorstore_path\n",
    "    )\n",
    "    return vectorstore"
   ]
  },
  {
   "cell_type": "code",
   "execution_count": 5,
   "metadata": {
    "vscode": {
     "languageId": "shellscript"
    }
   },
   "outputs": [
    {
     "name": "stdout",
     "output_type": "stream",
     "text": [
      "Inserted 49 new chunks.\n"
     ]
    }
   ],
   "source": [
    "def insert_if_not_exists(chunks, embedding_function, vectorstore_path):\n",
    "    try:\n",
    "        vectorstore = Chroma(persist_directory=vectorstore_path, embedding_function=embedding_function)\n",
    "    except:\n",
    "        vectorstore = Chroma.from_texts(texts=[], embedding=embedding_function, persist_directory=vectorstore_path)\n",
    "\n",
    "    new_chunks = []\n",
    "    for chunk in chunks:\n",
    "        embedding = embedding_function.embed_query(chunk)\n",
    "        results = vectorstore.similarity_search_by_vector(embedding, k=1)\n",
    "        if not results or results[0].page_content != chunk:\n",
    "            new_chunks.append(chunk)\n",
    "\n",
    "    if new_chunks:\n",
    "        embeddings = [embedding_function.embed_query(chunk) for chunk in new_chunks]\n",
    "        vectorstore.add_texts(texts=new_chunks, embeddings=embeddings)\n",
    "        print(f\"Inserted {len(new_chunks)} new chunks.\")\n",
    "    else:\n",
    "        print(\"No new data to insert.\")\n",
    "\n",
    "# Example usage\n",
    "vectorstore = insert_if_not_exists(\n",
    "    chunks=chunks, \n",
    "    embedding_function=embeddings_ollama, \n",
    "    vectorstore_path=\"data/vectorstore/chromadb\"\n",
    ")\n"
   ]
  },
  {
   "cell_type": "code",
   "execution_count": 6,
   "metadata": {},
   "outputs": [],
   "source": [
    "PROMPT_TEMPLATE = \"\"\"\n",
    "You are an assistant for question-answering tasks.\n",
    "Use the following pieces of retrieved context to answer\n",
    "the question. If you don't know the answer, say that you\n",
    "don't know. DON'T MAKE UP ANYTHING.\n",
    "\n",
    "{context}\n",
    "\n",
    "---\n",
    "\n",
    "Answer the question based on the above context: {question}\n",
    "\"\"\"\n",
    "vectorstore_path='data/vectorstore/chromadb'"
   ]
  },
  {
   "cell_type": "code",
   "execution_count": 7,
   "metadata": {
    "vscode": {
     "languageId": "shellscript"
    }
   },
   "outputs": [],
   "source": [
    "def retrieve_data_from_vectorstore(question):\n",
    "    try:\n",
    "        vectorstore = Chroma(persist_directory=vectorstore_path, embedding_function=embeddings_ollama)\n",
    "        retriever = vectorstore.as_retriever(search_type=\"similarity\")\n",
    "        relevant_chunks = retriever.invoke(\"who will provide adequate legal protection against the manufature of devices which have purpose of bypassing a technological protection measure.\")\n",
    "        print (relevant_chunks)\n",
    "        def format_docs(docs):\n",
    "            return \"\\n\\n\".join(doc.page_content for doc in docs)\n",
    "        \n",
    "        prompt_template = ChatPromptTemplate.from_template(PROMPT_TEMPLATE)\n",
    "        rag_chain = (\n",
    "            {\"context\": retriever | format_docs, \"question\": RunnablePassthrough()}\n",
    "            | prompt_template\n",
    "            | model_ollama\n",
    "        )\n",
    "        response = rag_chain.invoke(question)\n",
    "        return response\n",
    "    except Exception as e:\n",
    "        print(f\"Error: {str(e)}\")\n",
    "        return \"An error occurred while retrieving data.\"\n"
   ]
  },
  {
   "cell_type": "code",
   "execution_count": 8,
   "metadata": {
    "vscode": {
     "languageId": "shellscript"
    }
   },
   "outputs": [
    {
     "name": "stdout",
     "output_type": "stream",
     "text": [
      "[Document(metadata={}, page_content='(48) Such legal protection should be provided in respect of technological measures that effectively restrict acts not authorised by the rightholders of any copyright, rights related to copyright or the sui generis right in databases without, however, preventing the normal operation of electronic equipment and its technological development. Such legal protection implies no obligation to design devices, products, components or services to correspond to technological measures, so long as such device, product, component or service does not otherwise fall under the prohibition of Article 6. Such legal protection should respect proportionality and should not prohibit those devices or activities which have a commercially significant purpose or use other than to circumvent the technical protection. In particular, this protection should not hinder research into cryptography.\\n(49) The legal protection of technological measures is without prejudice to the application of any national provisions which may prohibit the private possession of devices, products or components for the circumvention of technological measures.'), Document(metadata={}, page_content='CHAPTER III\\nPROTECTION OF TECHNOLOGICAL MEASURES AND RIGHTS-MANAGEMENT INFORMATION\\nArticle 6\\nObligations as to technological measures\\n1. Member States shall provide adequate legal protection against the circumvention of any effective technological measures, which the person concerned carries out in the knowledge, or with reasonable grounds to know, that he or she is pursuing that objective.\\n2. Member States shall provide adequate legal protection against the manufacture, import, distribution, sale, rental, advertisement for sale or rental, or possession for commercial purposes of devices, products or components or the provision of services which:\\n(a) are promoted, advertised or marketed for the purpose of circumvention of, or\\n(b) have only a limited commercially significant purpose or use other than to circumvent, or\\n(c) are primarily designed, produced, adapted or performed for the purpose of enabling or facilitating the circumvention of,\\nany effective technological measures.'), Document(metadata={}, page_content='(51) The legal protection of technological measures applies without prejudice to public policy, as reflected in Article 5, or public security. Member States should promote voluntary measures taken by rightholders, including the conclusion and implementation of agreements between rightholders and other parties concerned, to accommodate achieving the objectives of certain exceptions or limitations provided for in national law in accordance with this Directive. In the absence of such voluntary measures or agreements within a reasonable period of time, Member States should take appropriate measures to ensure that rightholders provide beneficiaries of such exceptions or limitations with appropriate means of benefiting from them, by modifying an implemented technological measure or by other means. However, in order to prevent abuse of such measures taken by rightholders, including within the framework of agreements, or taken by a Member State, any technological measures applied in implementation of such measures should enjoy legal protection.'), Document(metadata={}, page_content='(c) are primarily designed, produced, adapted or performed for the purpose of enabling or facilitating the circumvention of,\\nany effective technological measures.\\n3. For the purposes of this Directive, the expression \"technological measures\" means any technology, device or component that, in the normal course of its operation, is designed to prevent or restrict acts, in respect of works or other subject-matter, which are not authorised by the rightholder of any copyright or any right related to copyright as provided for by law or the sui generis right provided for in Chapter III of Directive 96/9/EC. Technological measures shall be deemed \"effective\" where the use of a protected work or other subject-matter is controlled by the rightholders through application of an access control or protection process, such as encryption, scrambling or other transformation of the work or other subject-matter or a copy control mechanism, which achieves the protection objective.')]\n"
     ]
    },
    {
     "data": {
      "text/plain": [
       "AIMessage(content='According to Article 6(2)(c) of the Directive, Member States shall provide adequate legal protection against the manufacture, import, distribution, sale, rental, advertisement for sale or rental, or possession for commercial purposes of devices, products or components that are primarily designed, produced, adapted or performed for the purpose of enabling or facilitating the circumvention of any effective technological measures.', additional_kwargs={}, response_metadata={'model': 'llama3.2', 'created_at': '2024-11-09T16:14:24.557286Z', 'message': {'role': 'assistant', 'content': ''}, 'done_reason': 'stop', 'done': True, 'total_duration': 5357012750, 'load_duration': 21276542, 'prompt_eval_count': 840, 'prompt_eval_duration': 2916000000, 'eval_count': 77, 'eval_duration': 2418000000}, id='run-0b842837-36db-4ae1-a1d1-93cab8626441-0', usage_metadata={'input_tokens': 840, 'output_tokens': 77, 'total_tokens': 917})"
      ]
     },
     "execution_count": 8,
     "metadata": {},
     "output_type": "execute_result"
    }
   ],
   "source": [
    "retrieve_data_from_vectorstore(\"who will provide adequate legal protection against the manufature of devices which have purpose of bypassing a technological protection measure.\")"
   ]
  },
  {
   "cell_type": "markdown",
   "metadata": {
    "vscode": {
     "languageId": "shellscript"
    }
   },
   "source": [
    "embedding_function=embeddings_ollama\n",
    "vectorstore_path='data/vectorstore_test'\n",
    "vectorstore = Chroma.from_texts(texts=['con meo ngu ngoc','con ca biet di'], embedding=embedding_function, persist_directory=vectorstore_path)\n",
    "embedding = embedding_function.embed_query('con meo ngu ngoc')\n",
    "results = vectorstore.similarity_search_by_vector(embedding, k=1)\n",
    "results"
   ]
  },
  {
   "cell_type": "code",
   "execution_count": null,
   "metadata": {},
   "outputs": [],
   "source": [
    "vectorstore = Chroma(persist_directory=\"data/vectorstore_test\", embedding_function=embeddings_ollama)"
   ]
  },
  {
   "cell_type": "code",
   "execution_count": null,
   "metadata": {},
   "outputs": [],
   "source": [
    "# Create retriever and get relevant chunks\n",
    "retriever = vectorstore.as_retriever(search_type=\"similarity\")\n",
    "relevant_chunks = retriever.invoke(\"who will provide adequate legal protection against the manufature of devices, products or components or the provision of services which:\")\n",
    "relevant_chunks"
   ]
  },
  {
   "cell_type": "code",
   "execution_count": null,
   "metadata": {},
   "outputs": [],
   "source": [
    "# Concatenate context text\n",
    "context_text = \"\\n\\n---\\n\\n\".join([doc.page_content for doc in relevant_chunks])\n",
    "context_text\n",
    "# # Create prompt\n",
    "prompt_template = ChatPromptTemplate.from_template(PROMPT_TEMPLATE)\n",
    "prompt = prompt_template.format(context=context_text, \n",
    "                                question=\"who will provide adequate legal protection against the manufature of devices which have purpose of bypassing a technological protection measure.\")\n",
    "print(prompt)"
   ]
  },
  {
   "cell_type": "code",
   "execution_count": null,
   "metadata": {},
   "outputs": [],
   "source": [
    "model_ollama.invoke(prompt)"
   ]
  },
  {
   "cell_type": "code",
   "execution_count": null,
   "metadata": {},
   "outputs": [],
   "source": [
    "def format_docs(docs):\n",
    "    return \"\\n\\n\".join(doc.page_content for doc in docs)\n",
    "\n",
    "retriever = vectorstore.as_retriever(search_type=\"similarity\")\n",
    "prompt_template = ChatPromptTemplate.from_template(PROMPT_TEMPLATE)\n",
    "rag_chain = (\n",
    "            {\"context\": retriever | format_docs, \"question\": RunnablePassthrough()}\n",
    "            | prompt_template\n",
    "            | model_ollama\n",
    "        )\n",
    "rag_chain.invoke(\"who will provide adequate legal protection against the manufature of devices which have purpose of bypassing a technological protection measure.\")"
   ]
  }
 ],
 "metadata": {
  "kernelspec": {
   "display_name": "env",
   "language": "python",
   "name": "python3"
  },
  "language_info": {
   "codemirror_mode": {
    "name": "ipython",
    "version": 3
   },
   "file_extension": ".py",
   "mimetype": "text/x-python",
   "name": "python",
   "nbconvert_exporter": "python",
   "pygments_lexer": "ipython3",
   "version": "3.12.4"
  }
 },
 "nbformat": 4,
 "nbformat_minor": 2
}
